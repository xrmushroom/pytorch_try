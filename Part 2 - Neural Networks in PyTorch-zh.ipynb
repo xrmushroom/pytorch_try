{
 "cells": [
  {
   "cell_type": "markdown",
   "metadata": {},
   "source": [
    "# 通过 PyTorch 构建神经网络\n",
    "\n",
    "下面我们将了解如何使用 PyTorch 构建神经网络。"
   ]
  },
  {
   "cell_type": "code",
   "execution_count": 1,
   "metadata": {},
   "outputs": [],
   "source": [
    "# Import things like usual\n",
    "\n",
    "%matplotlib inline\n",
    "%config InlineBackend.figure_format = 'retina'\n",
    "\n",
    "import numpy as np\n",
    "import torch\n",
    "\n",
    "import helper\n",
    "\n",
    "import matplotlib.pyplot as plt\n",
    "from torchvision import datasets, transforms  #导入软件包，与PyTorch相关使能下载并使用一些现有的数据集"
   ]
  },
  {
   "cell_type": "markdown",
   "metadata": {},
   "source": [
    "首先，我们需要获取数据集。这些数据位于 `torchvision` 软件包中。以下代码将下载 MNIST 数据集，然后为我们创建训练数据集和测试数据集。暂时不用对细节部分太关心，稍后你会详细学习的。"
   ]
  },
  {
   "cell_type": "code",
   "execution_count": 2,
   "metadata": {},
   "outputs": [],
   "source": [
    "# Define a transform to normalize the data\n",
    "transform = transforms.Compose([transforms.ToTensor(),\n",
    "                              transforms.Normalize((0.5, 0.5, 0.5), (0.5, 0.5, 0.5)),\n",
    "                             ])\n",
    "#首先将图像转换为PyTorch张量 然后标准化（normalize）:\n",
    "#对这些灰阶图像进行处理，每个像素值是从0到1的浮点数 变为从（方差范围）-1到1（减0.5）（均值）\n",
    "#从每个颜色通道【0-1】（即每个像素减去0.5【-0.5 - 0.5】 然后除以0.5【乘以2】）\n",
    "\n",
    "# Download and load the training data\n",
    "trainset = datasets.MNIST('MNIST_data/', download=True, train=True, transform=transform)\n",
    "#用torchvision下载并加载训练数据 如果磁盘上没有该数据那将下载之，提供转换：\n",
    "#读取这些图像然后应用这些转换生成传入网络的数据集\n",
    "\n",
    "#使用的数据集称为MNIST，一堆手写数字0-9的图像\n",
    "#此数据集用于训练网络或其他机器学习模型，使它们能够将图像分类为数字\n",
    "trainloader = torch.utils.data.DataLoader(trainset, batch_size=64, shuffle=True)\n",
    "#批次大小设为64：当从trainloader获取数据时 每次将获得64张图像\n",
    "\n",
    "# Download and load the test data\n",
    "testset = datasets.MNIST('MNIST_data/', download=True, train=False, transform=transform)\n",
    "testloader = torch.utils.data.DataLoader(testset, batch_size=64, shuffle=True)"
   ]
  },
  {
   "cell_type": "code",
   "execution_count": 3,
   "metadata": {},
   "outputs": [],
   "source": [
    "dataiter = iter(trainloader)\n",
    "images, labels = dataiter.next()"
   ]
  },
  {
   "cell_type": "markdown",
   "metadata": {},
   "source": [
    "我们将训练数据加载到了 `trainloader` 中，并使用 `iter(trainloader)`使其变成迭代器。我们将用它循环访问数据集以进行训练，但是现在我只获取了第一批数据，以便查看数据。从下方可以看出，`images` 是一个大小为 (64, 1, 28, 28) 的张量。因此，每批有 64 个图像、1 个颜色通道，共有 28x28 个图像。\n",
    "》MNIST图像28x28,(的向量)=784输入层"
   ]
  },
  {
   "cell_type": "code",
   "execution_count": 4,
   "metadata": {},
   "outputs": [
    {
     "data": {
      "text/plain": [
       "<matplotlib.image.AxesImage at 0x7f7d24814be0>"
      ]
     },
     "execution_count": 4,
     "metadata": {},
     "output_type": "execute_result"
    },
    {
     "data": {
      "image/png": "[encoded data removed]",
      "text/plain": [
       "<matplotlib.figure.Figure at 0x7f7d600a3630>"
      ]
     },
     "metadata": {
      "image/png": {
       "height": 250,
       "width": 253
      },
      "needs_background": "light"
     },
     "output_type": "display_data"
    }
   ],
   "source": [
    "plt.imshow(images[1].numpy().squeeze(), cmap='Greys_r')"
   ]
  },
  {
   "cell_type": "markdown",
   "metadata": {},
   "source": [
    "## 通过 PyTorch 构建神经网络\n",
    "\n",
    "我将使用 PyTorch 构建一个简单的前馈网络，用于对 MNIST 图像进行分类。即该网络将接收数字图像作为输入，并预测图像中的数字。》输出层 10个数字，层级中的单元或层级越多 越能拟合数据\n",
    "》对于激活函数，隐藏层ReLu 输出层softmax(接受这些输出单元的值并将之转换为概率分布)\n",
    "》离散概率分布，表示输入属于这个类别softmax的概率\n",
    "\n",
    "<img src=\"assets/mlp_mnist.png\" width=600px>\n",
    "\n",
    "要通过 PyTorch 构建神经网络，你需要使用 `torch.nn` 模块。网络本身是继承自 `torch.nn.Module` 的类。你需要单独定义每个运算，例如针对具有 784 个输入和 128 个单元的全连接层定义为 `nn.Linear(784, 128)`。\n",
    "\n",
    "该类需要包含对网络实现前向传递的 `forward` 方法。在此方法中，你将对之前定义的每个运算传递输入张量 `x`。`torch.nn` 模块在 `torch.nn.functional` 中还具有一些对等的功能，例如 ReLU。此模块通常导入为 `F`。要对某个层（只是一个张量）使用 ReLU 激活函数，你需要使用 `F.relu(x)`。以下是一些常见的不同激活函数。\n",
    "\n",
    "<img src=\"assets/activation.png\" width=700px>\n",
    "\n",
    "对于此网络，我将添加三个全连接层，然后添加一个预测类别的 softmax 输出。softmax 函数和 S 型函数相似，都会将输入调整到 0 到 1 之间，但是还会标准化这些输入，以便所有值的和为 1，就像正常的概率分布一样。\n",
    "\n",
    "》损失函数：交叉熵损失函数cross entropy loss：将softmax层的概率或预测 与真实类别进行比较\n",
    "》然后使用二者之差（即损失）更新网络中的权重"
   ]
  },
  {
   "cell_type": "code",
   "execution_count": 5,
   "metadata": {},
   "outputs": [],
   "source": [
    "from torch import nn #神经网络函数（模块）\n",
    "from torch import optim\n",
    "import torch.nn.functional as F #跟多专门针对神经网络的函数 函数形式\n",
    "from torch.autograd import Variable"
   ]
  },
  {
   "cell_type": "code",
   "execution_count": 6,
   "metadata": {},
   "outputs": [
    {
     "data": {
      "text/plain": [
       "Network(\n",
       "  (fc1): Linear(in_features=784, out_features=128, bias=True)\n",
       "  (fc2): Linear(in_features=128, out_features=64, bias=True)\n",
       "  (fc3): Linear(in_features=64, out_features=10, bias=True)\n",
       ")"
      ]
     },
     "execution_count": 6,
     "metadata": {},
     "output_type": "execute_result"
    }
   ],
   "source": [
    "class Network(nn.Module): #这个类Network 是nn.Module 的子类\n",
    "    def __init__(self):\n",
    "        super().__init__()  #super()：调用此子类所继承的类的函数或属性\n",
    "        #调用nn.Module的init方法\n",
    "        \n",
    "        # Defining the layers, 128, 64, 10 units each #定义要使用的层级，神经网络架构的运算\n",
    "        self.fc1 = nn.Linear(784, 128) #表示全连接层 6：22\n",
    "        self.fc2 = nn.Linear(128, 64)\n",
    "        # Output layer, 10 units - one for each digit\n",
    "        self.fc3 = nn.Linear(64, 10)\n",
    "        \n",
    "    def forward(self, x):\n",
    "        ''' Forward pass through the network, returns the output logits '''\n",
    "        \n",
    "        x = self.fc1(x)\n",
    "        x = F.relu(x)\n",
    "        x = self.fc2(x)\n",
    "        x = F.relu(x)\n",
    "        x = self.fc3(x)\n",
    "        \n",
    "        return x\n",
    "    \n",
    "    def predict(self, x):\n",
    "        ''' This function for predicts classes by calculating the softmax '''\n",
    "        logits = self.forward(x)\n",
    "        return F.softmax(logits)\n",
    "\n",
    "net = Network()\n",
    "net"
   ]
  },
  {
   "cell_type": "markdown",
   "metadata": {},
   "source": [
    "### 初始化权重和偏差\n",
    "\n",
    "权重等参数是系统自动初始化的，但是你也可以自定义如何初始化这些权重。权重和偏差是附加到你所定义的层的张量，你可以通过 `net.fc1.weight` 获取它们。"
   ]
  },
  {
   "cell_type": "code",
   "execution_count": 7,
   "metadata": {},
   "outputs": [
    {
     "name": "stdout",
     "output_type": "stream",
     "text": [
      "Parameter containing:\n",
      "tensor([[ 5.6106e-03, -1.8561e-03,  3.2211e-02,  ..., -3.2147e-02,\n",
      "          1.3159e-02,  2.8102e-02],\n",
      "        [ 1.4691e-02,  1.4644e-02,  9.2946e-03,  ..., -2.3313e-02,\n",
      "          3.3801e-02,  1.3908e-02],\n",
      "        [ 8.5832e-03, -3.0571e-02,  8.3739e-03,  ..., -2.3222e-02,\n",
      "          3.4756e-02, -1.7155e-02],\n",
      "        ...,\n",
      "        [ 1.3019e-02, -1.2791e-02,  2.3978e-02,  ..., -6.2585e-03,\n",
      "          3.0470e-02, -2.2942e-02],\n",
      "        [-4.2310e-03, -1.5862e-03,  1.0516e-02,  ...,  3.3391e-02,\n",
      "         -1.7527e-02,  3.0094e-02],\n",
      "        [ 1.2858e-02,  2.4963e-02, -2.8564e-02,  ..., -3.3943e-02,\n",
      "          1.5689e-02, -2.1550e-02]])\n",
      "Parameter containing:\n",
      "tensor(1.00000e-02 *\n",
      "       [-2.3458, -0.4653,  3.0212,  1.8113,  0.5801,  1.5518, -1.5412,\n",
      "         2.6466, -3.3192,  2.5159, -2.3186,  0.5840, -0.3030,  0.9004,\n",
      "         3.0032,  1.4141, -3.3963, -2.8561,  0.6840,  0.5012,  2.8190,\n",
      "         2.9609,  2.7853,  1.5385, -0.8942, -2.0748, -2.2644, -1.1862,\n",
      "         3.3283,  3.0604,  2.3377,  2.7524,  2.7715,  1.7482, -1.1298,\n",
      "         1.8758,  2.8112,  2.9750, -1.4007, -3.1844,  2.0672,  1.8953,\n",
      "        -0.6391, -1.3205, -0.3785,  2.7004,  0.1242,  1.1420,  2.5209,\n",
      "         2.6597, -1.5596,  1.9406, -0.0123,  3.5675, -1.1360, -3.2251,\n",
      "        -1.4795,  3.0254, -0.5705, -1.2985, -0.8505,  2.8420,  3.1437,\n",
      "         1.3980,  1.6371,  0.4594, -1.0469,  1.4015,  1.4892,  2.7474,\n",
      "         3.5282, -2.2466,  2.0903, -2.0199,  2.7904,  2.6980, -3.3483,\n",
      "        -0.1070, -1.0097,  0.8299,  3.1668, -0.9870, -2.5874,  1.6461,\n",
      "         2.5005, -0.6044, -2.4148, -0.0689,  0.4343,  0.2161, -2.1584,\n",
      "         3.1725, -3.4877, -0.6701,  2.6774, -0.6470, -1.0775, -3.1356,\n",
      "        -0.2045, -0.2787,  0.8711, -2.8623,  2.4810, -1.1954, -3.0516,\n",
      "        -2.0391, -0.9359, -0.3386, -1.4637,  1.4461, -0.5079, -0.3378,\n",
      "         2.2898,  1.6190, -3.4582, -3.4611, -3.0715,  2.3890, -3.4977,\n",
      "         3.4984,  0.1551,  1.7979, -3.5641,  2.8716, -1.6989,  1.0232,\n",
      "         1.6873, -1.8879])\n"
     ]
    }
   ],
   "source": [
    "print(net.fc1.weight)\n",
    "print(net.fc1.bias)"
   ]
  },
  {
   "cell_type": "markdown",
   "metadata": {},
   "source": [
    "要自定义初始化过程，请原地修改这些张量。实际上存在 autograd *变量*，因此我们需要通过 `net.fc1.weight.data` 获取真正的张量。获得张量后，可以用 0（针对偏差）或随机正常值填充这些张量。"
   ]
  },
  {
   "cell_type": "code",
   "execution_count": 8,
   "metadata": {},
   "outputs": [],
   "source": [
    "# Set biases to all zeros\n",
    "net.fc1.bias.data.fill_(0);"
   ]
  },
  {
   "cell_type": "code",
   "execution_count": 9,
   "metadata": {},
   "outputs": [],
   "source": [
    "# sample from random normal with standard dev = 0.01\n",
    "net.fc1.weight.data.normal_(std=0.01);"
   ]
  },
  {
   "cell_type": "markdown",
   "metadata": {},
   "source": [
    "### 前向传递\n",
    "\n",
    "我们已经创建好网络，看看传入图像后会发生什么。这一过程称之为前向传递。我们将图像数据转换为张量，然后传递给网络架构定义的运算。"
   ]
  },
  {
   "cell_type": "code",
   "execution_count": 10,
   "metadata": {},
   "outputs": [
    {
     "data": {
      "image/png": "[encoded data removed]",
      "text/plain": [
       "<matplotlib.figure.Figure at 0x7f7d787166d8>"
      ]
     },
     "metadata": {
      "image/png": {
       "height": 224,
       "width": 423
      },
      "needs_background": "light"
     },
     "output_type": "display_data"
    }
   ],
   "source": [
    "# Grab some data \n",
    "dataiter = iter(trainloader)\n",
    "images, labels = dataiter.next()\n",
    "images.resize_(64, 1, 784)\n",
    "\n",
    "# Need to wrap it in a Variable, will explain in next notebook\n",
    "inputs = Variable(images) \n",
    "\n",
    "# Forward pass through the network\n",
    "img_idx = 0\n",
    "logits = net.forward(inputs[img_idx,:])\n",
    "\n",
    "# Predict the class from the network output\n",
    "ps = F.softmax(logits, dim=1)\n",
    "\n",
    "img = images[img_idx]\n",
    "helper.view_classify(img.resize_(1, 28, 28), ps)"
   ]
  },
  {
   "cell_type": "markdown",
   "metadata": {},
   "source": [
    "从上图中可以看出，我们的网络基本上根本不知道这个数字是什么，因为我们还没训练它，所有权重都是随机的！接下来，我们将了解如何训练该网络，使其能学习如何正确地对这些数字进行分类。"
   ]
  },
  {
   "cell_type": "code",
   "execution_count": null,
   "metadata": {},
   "outputs": [],
   "source": []
  }
 ],
 "metadata": {
  "kernelspec": {
   "display_name": "Python 3",
   "language": "python",
   "name": "python3"
  },
  "language_info": {
   "codemirror_mode": {
    "name": "ipython",
    "version": 3
   },
   "file_extension": ".py",
   "mimetype": "text/x-python",
   "name": "python",
   "nbconvert_exporter": "python",
   "pygments_lexer": "ipython3",
   "version": "3.6.3"
  }
 },
 "nbformat": 4,
 "nbformat_minor": 2
}
